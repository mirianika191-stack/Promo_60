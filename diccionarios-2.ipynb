{
 "cells": [
  {
   "cell_type": "markdown",
   "id": "f6737d4d",
   "metadata": {},
   "source": []
  },
  {
   "cell_type": "code",
   "execution_count": 1,
   "id": "ae4a8b31",
   "metadata": {},
   "outputs": [
    {
     "name": "stdout",
     "output_type": "stream",
     "text": [
      "{}\n"
     ]
    }
   ],
   "source": [
    "dit = {}\n",
    "print(dit)"
   ]
  },
  {
   "cell_type": "code",
   "execution_count": 2,
   "id": "a9b371bd",
   "metadata": {},
   "outputs": [],
   "source": [
    "dit = {\"rojo\": 1, \"amarillo\": 325, \"rosa\": 45, \"azul\": 12, \"lila\": 3 }"
   ]
  },
  {
   "cell_type": "code",
   "execution_count": 3,
   "id": "ff060594",
   "metadata": {},
   "outputs": [
    {
     "ename": "AttributeError",
     "evalue": "'dict' object has no attribute 'input'",
     "output_type": "error",
     "traceback": [
      "\u001b[31m---------------------------------------------------------------------------\u001b[39m",
      "\u001b[31mAttributeError\u001b[39m                            Traceback (most recent call last)",
      "\u001b[36mCell\u001b[39m\u001b[36m \u001b[39m\u001b[32mIn[3]\u001b[39m\u001b[32m, line 1\u001b[39m\n\u001b[32m----> \u001b[39m\u001b[32m1\u001b[39m \u001b[43mdit\u001b[49m\u001b[43m.\u001b[49m\u001b[43minput\u001b[49m(\u001b[33m\"\u001b[39m\u001b[33mrosa\u001b[39m\u001b[33m\"\u001b[39m)\n",
      "\u001b[31mAttributeError\u001b[39m: 'dict' object has no attribute 'input'"
     ]
    }
   ],
   "source": [
    "dit.input(\"rosa\")"
   ]
  },
  {
   "cell_type": "code",
   "execution_count": 4,
   "id": "2548682a",
   "metadata": {},
   "outputs": [
    {
     "name": "stdout",
     "output_type": "stream",
     "text": [
      "{'rojo': 1, 'amarillo': 325, 'rosa': 45, 'azul': 12, 'lila': 3}\n"
     ]
    }
   ],
   "source": [
    "print(dit)"
   ]
  },
  {
   "cell_type": "code",
   "execution_count": 5,
   "id": "364d3177",
   "metadata": {},
   "outputs": [
    {
     "data": {
      "text/plain": [
       "45"
      ]
     },
     "execution_count": 5,
     "metadata": {},
     "output_type": "execute_result"
    }
   ],
   "source": [
    "dit[\"rosa\"]"
   ]
  },
  {
   "cell_type": "code",
   "execution_count": null,
   "id": "06b497b3",
   "metadata": {},
   "outputs": [],
   "source": []
  },
  {
   "cell_type": "code",
   "execution_count": 6,
   "id": "01d7f74c",
   "metadata": {},
   "outputs": [
    {
     "ename": "AttributeError",
     "evalue": "'dict' object has no attribute 'append'",
     "output_type": "error",
     "traceback": [
      "\u001b[31m---------------------------------------------------------------------------\u001b[39m",
      "\u001b[31mAttributeError\u001b[39m                            Traceback (most recent call last)",
      "\u001b[36mCell\u001b[39m\u001b[36m \u001b[39m\u001b[32mIn[6]\u001b[39m\u001b[32m, line 1\u001b[39m\n\u001b[32m----> \u001b[39m\u001b[32m1\u001b[39m \u001b[43mdit\u001b[49m\u001b[43m.\u001b[49m\u001b[43mappend\u001b[49m({\u001b[33m\"\u001b[39m\u001b[33mnaranja\u001b[39m\u001b[33m\"\u001b[39m: \u001b[32m15\u001b[39m, \u001b[33m\"\u001b[39m\u001b[33mnegro\u001b[39m\u001b[33m\"\u001b[39m: \u001b[32m7\u001b[39m})\n",
      "\u001b[31mAttributeError\u001b[39m: 'dict' object has no attribute 'append'"
     ]
    }
   ],
   "source": [
    "dit.append({\"naranja\": 15, \"negro\": 7})"
   ]
  },
  {
   "cell_type": "code",
   "execution_count": 7,
   "id": "fc08e741",
   "metadata": {},
   "outputs": [
    {
     "ename": "AttributeError",
     "evalue": "'dict' object has no attribute 'append'",
     "output_type": "error",
     "traceback": [
      "\u001b[31m---------------------------------------------------------------------------\u001b[39m",
      "\u001b[31mAttributeError\u001b[39m                            Traceback (most recent call last)",
      "\u001b[36mCell\u001b[39m\u001b[36m \u001b[39m\u001b[32mIn[7]\u001b[39m\u001b[32m, line 1\u001b[39m\n\u001b[32m----> \u001b[39m\u001b[32m1\u001b[39m dit = \u001b[43m{\u001b[49m\u001b[33;43m\"\u001b[39;49m\u001b[33;43mrojo\u001b[39;49m\u001b[33;43m\"\u001b[39;49m\u001b[43m:\u001b[49m\u001b[43m \u001b[49m\u001b[32;43m1\u001b[39;49m\u001b[43m,\u001b[49m\u001b[43m \u001b[49m\u001b[33;43m\"\u001b[39;49m\u001b[33;43mamarillo\u001b[39;49m\u001b[33;43m\"\u001b[39;49m\u001b[43m:\u001b[49m\u001b[43m \u001b[49m\u001b[32;43m325\u001b[39;49m\u001b[43m,\u001b[49m\u001b[43m \u001b[49m\u001b[33;43m\"\u001b[39;49m\u001b[33;43mrosa\u001b[39;49m\u001b[33;43m\"\u001b[39;49m\u001b[43m:\u001b[49m\u001b[43m \u001b[49m\u001b[32;43m45\u001b[39;49m\u001b[43m,\u001b[49m\u001b[43m \u001b[49m\u001b[33;43m\"\u001b[39;49m\u001b[33;43mazul\u001b[39;49m\u001b[33;43m\"\u001b[39;49m\u001b[43m:\u001b[49m\u001b[43m \u001b[49m\u001b[32;43m12\u001b[39;49m\u001b[43m,\u001b[49m\u001b[43m \u001b[49m\u001b[33;43m\"\u001b[39;49m\u001b[33;43mlila\u001b[39;49m\u001b[33;43m\"\u001b[39;49m\u001b[43m:\u001b[49m\u001b[43m \u001b[49m\u001b[32;43m3\u001b[39;49m\u001b[43m \u001b[49m\u001b[43m}\u001b[49m\u001b[43m.\u001b[49m\u001b[43mappend\u001b[49m({\u001b[33m\"\u001b[39m\u001b[33mnaranja\u001b[39m\u001b[33m\"\u001b[39m: \u001b[32m15\u001b[39m, \u001b[33m\"\u001b[39m\u001b[33mnegro\u001b[39m\u001b[33m\"\u001b[39m: \u001b[32m7\u001b[39m})\n",
      "\u001b[31mAttributeError\u001b[39m: 'dict' object has no attribute 'append'"
     ]
    }
   ],
   "source": [
    "dit = {\"rojo\": 1, \"amarillo\": 325, \"rosa\": 45, \"azul\": 12, \"lila\": 3 }.append({\"naranja\": 15, \"negro\": 7})"
   ]
  },
  {
   "cell_type": "code",
   "execution_count": 8,
   "id": "2d242292",
   "metadata": {},
   "outputs": [
    {
     "ename": "AttributeError",
     "evalue": "'dict' object has no attribute 'append'",
     "output_type": "error",
     "traceback": [
      "\u001b[31m---------------------------------------------------------------------------\u001b[39m",
      "\u001b[31mAttributeError\u001b[39m                            Traceback (most recent call last)",
      "\u001b[36mCell\u001b[39m\u001b[36m \u001b[39m\u001b[32mIn[8]\u001b[39m\u001b[32m, line 1\u001b[39m\n\u001b[32m----> \u001b[39m\u001b[32m1\u001b[39m dit = [\u001b[43m{\u001b[49m\u001b[33;43m\"\u001b[39;49m\u001b[33;43mrojo\u001b[39;49m\u001b[33;43m\"\u001b[39;49m\u001b[43m:\u001b[49m\u001b[43m \u001b[49m\u001b[32;43m1\u001b[39;49m\u001b[43m,\u001b[49m\u001b[43m \u001b[49m\u001b[33;43m\"\u001b[39;49m\u001b[33;43mamarillo\u001b[39;49m\u001b[33;43m\"\u001b[39;49m\u001b[43m:\u001b[49m\u001b[43m \u001b[49m\u001b[32;43m325\u001b[39;49m\u001b[43m,\u001b[49m\u001b[43m \u001b[49m\u001b[33;43m\"\u001b[39;49m\u001b[33;43mrosa\u001b[39;49m\u001b[33;43m\"\u001b[39;49m\u001b[43m:\u001b[49m\u001b[43m \u001b[49m\u001b[32;43m45\u001b[39;49m\u001b[43m,\u001b[49m\u001b[43m \u001b[49m\u001b[33;43m\"\u001b[39;49m\u001b[33;43mazul\u001b[39;49m\u001b[33;43m\"\u001b[39;49m\u001b[43m:\u001b[49m\u001b[43m \u001b[49m\u001b[32;43m12\u001b[39;49m\u001b[43m,\u001b[49m\u001b[43m \u001b[49m\u001b[33;43m\"\u001b[39;49m\u001b[33;43mlila\u001b[39;49m\u001b[33;43m\"\u001b[39;49m\u001b[43m:\u001b[49m\u001b[43m \u001b[49m\u001b[32;43m3\u001b[39;49m\u001b[43m \u001b[49m\u001b[43m}\u001b[49m\u001b[43m.\u001b[49m\u001b[43mappend\u001b[49m({\u001b[33m\"\u001b[39m\u001b[33mnaranja\u001b[39m\u001b[33m\"\u001b[39m: \u001b[32m15\u001b[39m, \u001b[33m\"\u001b[39m\u001b[33mnegro\u001b[39m\u001b[33m\"\u001b[39m: \u001b[32m7\u001b[39m})]\n",
      "\u001b[31mAttributeError\u001b[39m: 'dict' object has no attribute 'append'"
     ]
    }
   ],
   "source": [
    "dit = [{\"rojo\": 1, \"amarillo\": 325, \"rosa\": 45, \"azul\": 12, \"lila\": 3 }.append({\"naranja\": 15, \"negro\": 7})]\n"
   ]
  },
  {
   "cell_type": "code",
   "execution_count": 10,
   "id": "3ae60ac0",
   "metadata": {},
   "outputs": [],
   "source": [
    "ampliacion = {\"naranja\": 15, \"negro\": 7}"
   ]
  },
  {
   "cell_type": "code",
   "execution_count": 12,
   "id": "9e7425b0",
   "metadata": {},
   "outputs": [],
   "source": [
    "dit.update(ampliacion)"
   ]
  },
  {
   "cell_type": "code",
   "execution_count": 13,
   "id": "a2e41d72",
   "metadata": {},
   "outputs": [
    {
     "name": "stdout",
     "output_type": "stream",
     "text": [
      "{'rojo': 1, 'amarillo': 325, 'rosa': 45, 'azul': 12, 'lila': 3, 'naranja': 15, 'negro': 7}\n"
     ]
    }
   ],
   "source": [
    "print(dit)"
   ]
  },
  {
   "cell_type": "code",
   "execution_count": 18,
   "id": "ba22d7e8",
   "metadata": {},
   "outputs": [],
   "source": [
    "dit[\"amarillo\"] = 6"
   ]
  },
  {
   "cell_type": "code",
   "execution_count": 19,
   "id": "60623bd9",
   "metadata": {},
   "outputs": [
    {
     "name": "stdout",
     "output_type": "stream",
     "text": [
      "{'rojo': 1, 'amarillo': 6, 'rosa': 45, 'azul': 12, 'lila': 3, 'naranja': 15, 'negro': 7, 325: 6}\n"
     ]
    }
   ],
   "source": [
    "print(dit)"
   ]
  }
 ],
 "metadata": {
  "kernelspec": {
   "display_name": "Python 3",
   "language": "python",
   "name": "python3"
  },
  "language_info": {
   "codemirror_mode": {
    "name": "ipython",
    "version": 3
   },
   "file_extension": ".py",
   "mimetype": "text/x-python",
   "name": "python",
   "nbconvert_exporter": "python",
   "pygments_lexer": "ipython3",
   "version": "3.13.7"
  }
 },
 "nbformat": 4,
 "nbformat_minor": 5
}
